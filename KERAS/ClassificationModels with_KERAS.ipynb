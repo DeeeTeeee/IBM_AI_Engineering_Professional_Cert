{
 "cells": [
  {
   "cell_type": "code",
   "execution_count": 108,
   "id": "aa8c3864-4ed9-49d2-b60b-e6b617dad11d",
   "metadata": {
    "tags": []
   },
   "outputs": [],
   "source": [
    "import keras\n",
    "from keras.models import Sequential\n",
    "from keras.layers import Dense\n",
    "from keras.utils import to_categorical\n",
    "import matplotlib.pyplot as plt"
   ]
  },
  {
   "cell_type": "code",
   "execution_count": 109,
   "id": "fb8b2d92-587d-49ee-a168-c68518091c1c",
   "metadata": {
    "tags": []
   },
   "outputs": [],
   "source": [
    "#import the dataset:\n",
    "from keras.datasets import mnist\n",
    "\n",
    "#read in the data:\n",
    "(X_train, y_train), (X_test, y_test) = mnist.load_data()"
   ]
  },
  {
   "cell_type": "code",
   "execution_count": 110,
   "id": "19b7fe21-9e5c-4dbe-a2f3-e1c5eebb9353",
   "metadata": {
    "tags": []
   },
   "outputs": [
    {
     "data": {
      "text/plain": [
       "(60000, 28, 28)"
      ]
     },
     "execution_count": 110,
     "metadata": {},
     "output_type": "execute_result"
    }
   ],
   "source": [
    "X_train.shape"
   ]
  },
  {
   "cell_type": "code",
   "execution_count": 111,
   "id": "6d76a9d5-da3f-48dd-aba9-321d6d86dafe",
   "metadata": {
    "tags": []
   },
   "outputs": [
    {
     "data": {
      "image/png": "[encoded data removed]",
      "text/plain": [
       "<Figure size 640x480 with 1 Axes>"
      ]
     },
     "metadata": {},
     "output_type": "display_data"
    }
   ],
   "source": [
    "#display an imgame in X_train\n",
    "plt.imshow(X_train[0]);"
   ]
  },
  {
   "cell_type": "markdown",
   "id": "d1233c16-e306-4967-9512-c827eb11dcb1",
   "metadata": {},
   "source": [
    "we need to flatten the image cause its ConventionalNeural Network into a dimensional vector with each size of 1*(28 * 28) = 1*784"
   ]
  },
  {
   "cell_type": "code",
   "execution_count": 112,
   "id": "0773a615-dc4d-4e8b-8081-295255393ab9",
   "metadata": {
    "tags": []
   },
   "outputs": [],
   "source": [
    "#flatten the images into one dimensional vector:\n",
    "num_pixels = X_train.shape[1] * X_train.shape[2]\n",
    "\n",
    "X_train = X_train.reshape(X_train.shape[0], num_pixels).astype('float32') # flatten training images\n",
    "X_test = X_test.reshape(X_test.shape[0], num_pixels).astype('float32') # flatten test images"
   ]
  },
  {
   "cell_type": "markdown",
   "id": "947fd444-4892-4f30-a940-773355a85bb2",
   "metadata": {},
   "source": [
    "Since pixel can range from 0 to 255, lets normalize the vector to between 0 and 1"
   ]
  },
  {
   "cell_type": "code",
   "execution_count": 113,
   "id": "00cf0280-d496-40e0-84af-7d4edad4c3fb",
   "metadata": {
    "tags": []
   },
   "outputs": [],
   "source": [
    "#noramlize inputs from 0 - 255 to 0 -1;\n",
    "X_train = X_train/255\n",
    "X_test = X_test/255"
   ]
  },
  {
   "cell_type": "markdown",
   "id": "8335dd87-9869-4187-8cbd-64a1c70dac23",
   "metadata": {
    "tags": []
   },
   "source": [
    "Now, lets use to_categorical() to divide the target varailble into categories"
   ]
  },
  {
   "cell_type": "code",
   "execution_count": 114,
   "id": "fef01bff-5943-4735-ae47-a3d47c6d1d30",
   "metadata": {
    "tags": []
   },
   "outputs": [
    {
     "data": {
      "text/plain": [
       "10"
      ]
     },
     "execution_count": 114,
     "metadata": {},
     "output_type": "execute_result"
    }
   ],
   "source": [
    "#One hot encode output:\n",
    "y_train = to_categorical(y_train)\n",
    "y_test = to_categorical(y_test)\n",
    "\n",
    "num_classes = y_test.shape[1]\n",
    "num_classes"
   ]
  },
  {
   "cell_type": "markdown",
   "id": "5ee2120c-49d4-4f8d-b02a-e57ebbc1af21",
   "metadata": {},
   "source": [
    "## Lets build the Neural Network"
   ]
  },
  {
   "cell_type": "code",
   "execution_count": 115,
   "id": "d980581d-bd7b-44ad-9ef3-12584714d25e",
   "metadata": {
    "tags": []
   },
   "outputs": [],
   "source": [
    "def classification_model(num_classes):\n",
    "    # Define the correct input shape as a tuple\n",
    "    input_shape = (num_pixels,)  # Replace num_pixels with the actual number of input features\n",
    "\n",
    "    # Create the model\n",
    "    model = Sequential()\n",
    "    model.add(Dense(100, activation='relu', input_shape=input_shape))\n",
    "    model.add(Dense(100, activation='relu'))\n",
    "    model.add(Dense(num_classes, activation='softmax'))  # Output layer with num_classes units\n",
    "\n",
    "    # Compile the model\n",
    "    model.compile(optimizer='adam', loss='categorical_crossentropy', metrics=['accuracy'])\n",
    "    return model"
   ]
  },
  {
   "cell_type": "markdown",
   "id": "18531877-5e51-4765-b2da-00a1f0f0466d",
   "metadata": {},
   "source": [
    "## Let Train and Teest the Model"
   ]
  },
  {
   "cell_type": "code",
   "execution_count": 116,
   "id": "ad3c031c-f2ad-4f1c-be35-19ffca35302d",
   "metadata": {
    "tags": []
   },
   "outputs": [
    {
     "name": "stdout",
     "output_type": "stream",
     "text": [
      "Epoch 1/10\n",
      "1875/1875 - 6s - loss: 0.2466 - accuracy: 0.9278 - val_loss: 0.1314 - val_accuracy: 0.9606 - 6s/epoch - 3ms/step\n",
      "Epoch 2/10\n",
      "1875/1875 - 5s - loss: 0.1068 - accuracy: 0.9680 - val_loss: 0.0900 - val_accuracy: 0.9715 - 5s/epoch - 2ms/step\n",
      "Epoch 3/10\n",
      "1875/1875 - 6s - loss: 0.0748 - accuracy: 0.9768 - val_loss: 0.0895 - val_accuracy: 0.9709 - 6s/epoch - 3ms/step\n",
      "Epoch 4/10\n",
      "1875/1875 - 5s - loss: 0.0589 - accuracy: 0.9812 - val_loss: 0.0793 - val_accuracy: 0.9747 - 5s/epoch - 3ms/step\n",
      "Epoch 5/10\n",
      "1875/1875 - 6s - loss: 0.0468 - accuracy: 0.9851 - val_loss: 0.0934 - val_accuracy: 0.9716 - 6s/epoch - 3ms/step\n",
      "Epoch 6/10\n",
      "1875/1875 - 5s - loss: 0.0359 - accuracy: 0.9884 - val_loss: 0.0808 - val_accuracy: 0.9752 - 5s/epoch - 3ms/step\n",
      "Epoch 7/10\n",
      "1875/1875 - 6s - loss: 0.0324 - accuracy: 0.9896 - val_loss: 0.0809 - val_accuracy: 0.9771 - 6s/epoch - 3ms/step\n",
      "Epoch 8/10\n",
      "1875/1875 - 5s - loss: 0.0269 - accuracy: 0.9910 - val_loss: 0.0865 - val_accuracy: 0.9779 - 5s/epoch - 3ms/step\n",
      "Epoch 9/10\n",
      "1875/1875 - 5s - loss: 0.0233 - accuracy: 0.9922 - val_loss: 0.0750 - val_accuracy: 0.9804 - 5s/epoch - 3ms/step\n",
      "Epoch 10/10\n",
      "1875/1875 - 5s - loss: 0.0215 - accuracy: 0.9924 - val_loss: 0.0965 - val_accuracy: 0.9775 - 5s/epoch - 3ms/step\n"
     ]
    }
   ],
   "source": [
    "# build the model\n",
    "model = classification_model(num_classes)\n",
    "\n",
    "# fit the model\n",
    "model.fit(X_train, y_train, validation_data=(X_test, y_test), epochs=10, verbose=2)\n",
    "\n",
    "# evaluate the model\n",
    "scores = model.evaluate(X_test, y_test, verbose=0)"
   ]
  },
  {
   "cell_type": "code",
   "execution_count": 117,
   "id": "37586642-b811-4cd4-8e9c-3669860dfa24",
   "metadata": {
    "tags": []
   },
   "outputs": [
    {
     "name": "stdout",
     "output_type": "stream",
     "text": [
      "Accuracy: 0.9775000214576721% \n",
      " Error: 0.02249997854232788\n"
     ]
    }
   ],
   "source": [
    "print('Accuracy: {}% \\n Error: {}'.format(scores[1], 1 - scores[1]))   "
   ]
  },
  {
   "cell_type": "markdown",
   "id": "2874c0e3-68cf-4088-84a6-21946ac47c5a",
   "metadata": {},
   "source": [
    "lets save the model"
   ]
  },
  {
   "cell_type": "code",
   "execution_count": 106,
   "id": "1863d6d8-63dc-4280-b81c-b98624eaed78",
   "metadata": {
    "tags": []
   },
   "outputs": [],
   "source": [
    "model.save('classification_model.h5')"
   ]
  },
  {
   "cell_type": "markdown",
   "id": "30ad149f-aba9-4cbf-b475-93b28fdd0fa7",
   "metadata": {},
   "source": [
    "To use it again:"
   ]
  },
  {
   "cell_type": "code",
   "execution_count": 107,
   "id": "55eb7426-5da3-46af-8da6-c861d9a48be2",
   "metadata": {
    "tags": []
   },
   "outputs": [],
   "source": [
    "from keras.models import load_model\n",
    "\n",
    "#import the pretrained model\n",
    "pretrained_model = load_model('classification_model.h5')"
   ]
  }
 ],
 "metadata": {
  "kernelspec": {
   "display_name": "sagemaker-distribution:Python",
   "language": "python",
   "name": "conda-env-sagemaker-distribution-py"
  },
  "language_info": {
   "codemirror_mode": {
    "name": "ipython",
    "version": 3
   },
   "file_extension": ".py",
   "mimetype": "text/x-python",
   "name": "python",
   "nbconvert_exporter": "python",
   "pygments_lexer": "ipython3",
   "version": "3.8.17"
  }
 },
 "nbformat": 4,
 "nbformat_minor": 5
}
